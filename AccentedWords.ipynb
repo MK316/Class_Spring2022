{
  "nbformat": 4,
  "nbformat_minor": 0,
  "metadata": {
    "colab": {
      "provenance": [],
      "authorship_tag": "ABX9TyPutSVCctcFaPCfhe6fvXDo",
      "include_colab_link": true
    },
    "kernelspec": {
      "name": "python3",
      "display_name": "Python 3"
    },
    "language_info": {
      "name": "python"
    }
  },
  "cells": [
    {
      "cell_type": "markdown",
      "metadata": {
        "id": "view-in-github",
        "colab_type": "text"
      },
      "source": [
        "<a href=\"https://colab.research.google.com/github/MK316/Class_Spring2022/blob/main/AccentedWords.ipynb\" target=\"_parent\"><img src=\"https://colab.research.google.com/assets/colab-badge.svg\" alt=\"Open In Colab\"/></a>"
      ]
    },
    {
      "cell_type": "markdown",
      "source": [
        "# Accented words"
      ],
      "metadata": {
        "id": "krJdSuwTJsvV"
      }
    },
    {
      "cell_type": "code",
      "source": [
        "#@markdown 🔄 setup\n",
        "%%capture\n",
        "!pip install gTTS\n",
        "from gtts import gTTS\n",
        "from IPython.display import Audio"
      ],
      "metadata": {
        "id": "TPblYRDIWasG"
      },
      "execution_count": 5,
      "outputs": []
    },
    {
      "cell_type": "code",
      "source": [
        "#@markdown English accent:\n",
        "Spelling = \"1\" #@param = [1, 2, 3, 4, 5]\n",
        "Language = \"ko\" #@param = [\"en\",\"fr\",\"zh-CN\",\"es\", \"ko\", \"ja\"]\n",
        "Dialect = \"com.au\" #@param = [\"com.au\",\"co.uk\",\"us\",\"ca\",\"co.in\",\"ie\", \"co.za\"]\n",
        "pn = int(Spelling) -1\n",
        "\n",
        "wordlist = [\"log on\"]\n",
        "\n",
        "wlist = wordlist[pn]\n",
        "txt = \"I'm learning English like you. Let's practice together. \" + \" \" + wlist\n",
        "\n",
        "if Language == \"en\":\n",
        "  def tts(txt):\n",
        "    text_to_say = txt\n",
        "    gtts_object = gTTS(text = text_to_say,\n",
        "                     lang = \"en\", tld = Dialect,\n",
        "                    slow = False) \n",
        "    gtts_object.save(\"E-audio.mp3\")\n",
        "    return Audio(\"E-audio.mp3\")\n",
        "else:\n",
        "  def tts(txt):\n",
        "    text_to_say = txt\n",
        "    gtts_object = gTTS(text = text_to_say,\n",
        "                       lang = Language, slow = False)\n",
        "    gtts_object.save(\"E-audio.mp3\")\n",
        "    return Audio(\"E-audio.mp3\")\n",
        "\n",
        "tts(txt)\n",
        "Audio(\"E-audio.mp3\", autoplay = True)"
      ],
      "metadata": {
        "colab": {
          "base_uri": "https://localhost:8080/",
          "height": 340
        },
        "id": "3o3XJ-UqIbk4",
        "outputId": "788b108b-ac62-4efd-80f1-3370486721cd"
      },
      "execution_count": 4,
      "outputs": [
        {
          "output_type": "error",
          "ename": "NameError",
          "evalue": "ignored",
          "traceback": [
            "\u001b[0;31m---------------------------------------------------------------------------\u001b[0m",
            "\u001b[0;31mNameError\u001b[0m                                 Traceback (most recent call last)",
            "\u001b[0;32m<ipython-input-4-67cb53470c72>\u001b[0m in \u001b[0;36m<cell line: 28>\u001b[0;34m()\u001b[0m\n\u001b[1;32m     26\u001b[0m     \u001b[0;32mreturn\u001b[0m \u001b[0mAudio\u001b[0m\u001b[0;34m(\u001b[0m\u001b[0;34m\"E-audio.mp3\"\u001b[0m\u001b[0;34m)\u001b[0m\u001b[0;34m\u001b[0m\u001b[0;34m\u001b[0m\u001b[0m\n\u001b[1;32m     27\u001b[0m \u001b[0;34m\u001b[0m\u001b[0m\n\u001b[0;32m---> 28\u001b[0;31m \u001b[0mtts\u001b[0m\u001b[0;34m(\u001b[0m\u001b[0mtxt\u001b[0m\u001b[0;34m)\u001b[0m\u001b[0;34m\u001b[0m\u001b[0;34m\u001b[0m\u001b[0m\n\u001b[0m\u001b[1;32m     29\u001b[0m \u001b[0mAudio\u001b[0m\u001b[0;34m(\u001b[0m\u001b[0;34m\"E-audio.mp3\"\u001b[0m\u001b[0;34m,\u001b[0m \u001b[0mautoplay\u001b[0m \u001b[0;34m=\u001b[0m \u001b[0;32mTrue\u001b[0m\u001b[0;34m)\u001b[0m\u001b[0;34m\u001b[0m\u001b[0;34m\u001b[0m\u001b[0m\n",
            "\u001b[0;32m<ipython-input-4-67cb53470c72>\u001b[0m in \u001b[0;36mtts\u001b[0;34m(txt)\u001b[0m\n\u001b[1;32m     21\u001b[0m   \u001b[0;32mdef\u001b[0m \u001b[0mtts\u001b[0m\u001b[0;34m(\u001b[0m\u001b[0mtxt\u001b[0m\u001b[0;34m)\u001b[0m\u001b[0;34m:\u001b[0m\u001b[0;34m\u001b[0m\u001b[0;34m\u001b[0m\u001b[0m\n\u001b[1;32m     22\u001b[0m     \u001b[0mtext_to_say\u001b[0m \u001b[0;34m=\u001b[0m \u001b[0mtxt\u001b[0m\u001b[0;34m\u001b[0m\u001b[0;34m\u001b[0m\u001b[0m\n\u001b[0;32m---> 23\u001b[0;31m     gtts_object = gTTS(text = text_to_say,\n\u001b[0m\u001b[1;32m     24\u001b[0m                        lang = Language, slow = False)\n\u001b[1;32m     25\u001b[0m     \u001b[0mgtts_object\u001b[0m\u001b[0;34m.\u001b[0m\u001b[0msave\u001b[0m\u001b[0;34m(\u001b[0m\u001b[0;34m\"E-audio.mp3\"\u001b[0m\u001b[0;34m)\u001b[0m\u001b[0;34m\u001b[0m\u001b[0;34m\u001b[0m\u001b[0m\n",
            "\u001b[0;31mNameError\u001b[0m: name 'gTTS' is not defined"
          ]
        }
      ]
    }
  ]
}