{
  "nbformat": 4,
  "nbformat_minor": 0,
  "metadata": {
    "colab": {
      "provenance": [],
      "authorship_tag": "ABX9TyM4ZKh3nT/WU/o0KIu9KAc2",
      "include_colab_link": true
    },
    "kernelspec": {
      "name": "python3",
      "display_name": "Python 3"
    },
    "language_info": {
      "name": "python"
    }
  },
  "cells": [
    {
      "cell_type": "markdown",
      "metadata": {
        "id": "view-in-github",
        "colab_type": "text"
      },
      "source": [
        "<a href=\"https://colab.research.google.com/github/MK316/Class_Spring2022/blob/main/EPA/Yes_noQuestion.ipynb\" target=\"_parent\"><img src=\"https://colab.research.google.com/assets/colab-badge.svg\" alt=\"Open In Colab\"/></a>"
      ]
    },
    {
      "cell_type": "markdown",
      "source": [
        "# Grammar: Convert a statement to a yes-no question. (Be-verb containing sentence only)\n",
        "\n",
        "Audio is the output."
      ],
      "metadata": {
        "id": "dV5DFhapKcQn"
      }
    },
    {
      "cell_type": "markdown",
      "source": [],
      "metadata": {
        "id": "DEYA8LwjeKkH"
      }
    },
    {
      "cell_type": "markdown",
      "source": [
        "# [1] svgling application to draw tree diagram"
      ],
      "metadata": {
        "id": "XxMvvtyCLtww"
      }
    },
    {
      "cell_type": "markdown",
      "source": [
        "install {svgling}"
      ],
      "metadata": {
        "id": "bFxHQyKRZ486"
      }
    },
    {
      "cell_type": "code",
      "execution_count": 60,
      "metadata": {
        "id": "68UDA2L-EiD0"
      },
      "outputs": [],
      "source": [
        "%%capture\n",
        "!pip install svgling\n",
        "\n",
        "import svgling\n",
        "from svgling.figure import Caption, SideBySide, RowByRow"
      ]
    },
    {
      "cell_type": "markdown",
      "source": [],
      "metadata": {
        "id": "pvY05-5EeSVF"
      }
    },
    {
      "cell_type": "code",
      "source": [
        "#@markdown Tree structure with binary branching\n",
        "# t1 = '\"T\",(\"T\",\"should\"),(\"VP\",\"leave\")'\n",
        "# mystr0 = (t1)\n",
        "mystr0 = (\"CP\", (\"C\", \"+Q\"), (\"TP\",(\"NP\",(\"Det\",\"those\"),(\"N\",\"guys\")),(\"T'\",(\"T\",\"should\"),(\"VP\",(\"V\",\"leave\")))))\n",
        "out = svgling.draw_tree(mystr0)\n",
        "out.set_edge_style((0,0), svgling.core.TriangleEdge())\n",
        "# out.set_edge_style((1,1,0), svgling.core.TriangleEdge())\n",
        "Caption(out,\"A TP inside a CP shell, with the C carrying the +Q feature.\")"
      ],
      "metadata": {
        "colab": {
          "base_uri": "https://localhost:8080/",
          "height": 316
        },
        "cellView": "form",
        "id": "2Xy0IHRdeXhl",
        "outputId": "a19bd4fb-34f1-46b1-f8e0-7b06bfb4cde0"
      },
      "execution_count": 94,
      "outputs": [
        {
          "output_type": "execute_result",
          "data": {
            "text/plain": [
              "<svgling.figure.Caption at 0x7f4a9ee64d90>"
            ],
            "image/svg+xml": "<svg baseProfile=\"full\" height=\"296.5px\" preserveAspectRatio=\"xMidYMid meet\" version=\"1.1\" viewBox=\"0,0,383.5,296.5\" width=\"383.5px\" xmlns=\"http://www.w3.org/2000/svg\" xmlns:ev=\"http://www.w3.org/2001/xml-events\" xmlns:xlink=\"http://www.w3.org/1999/xlink\"><defs /><svg height=\"264.0\" width=\"256.0\" x=\"63.75\" y=\"0\"><defs /><svg baseProfile=\"full\" height=\"264px\" preserveAspectRatio=\"xMidYMid meet\" style=\"font-family: times, serif; font-weight:normal; font-style: normal; font-size: 16px;\" version=\"1.1\" viewBox=\"0,0,256.0,264.0\" width=\"256px\" xmlns=\"http://www.w3.org/2000/svg\" xmlns:ev=\"http://www.w3.org/2001/xml-events\" xmlns:xlink=\"http://www.w3.org/1999/xlink\"><defs /><svg width=\"100%\" x=\"0\" y=\"0em\"><defs /><text text-anchor=\"middle\" x=\"50%\" y=\"1em\">CP</text></svg><svg width=\"12.5%\" x=\"0%\" y=\"3em\"><defs /><svg width=\"100%\" x=\"0\" y=\"0em\"><defs /><text text-anchor=\"middle\" x=\"50%\" y=\"1em\">C</text></svg><svg width=\"100%\" x=\"0%\" y=\"3em\"><defs /><svg width=\"100%\" x=\"0\" y=\"0em\"><defs /><text text-anchor=\"middle\" x=\"50%\" y=\"1em\">+Q</text></svg></svg><line stroke=\"black\" x1=\"50%\" x2=\"10%\" y1=\"1.2em\" y2=\"3em\" /><line stroke=\"black\" x1=\"50%\" x2=\"90%\" y1=\"1.2em\" y2=\"3em\" /><line stroke=\"black\" x1=\"10%\" x2=\"90%\" y1=\"3em\" y2=\"3em\" /></svg><line stroke=\"black\" x1=\"50%\" x2=\"6.25%\" y1=\"1.2em\" y2=\"3em\" /><svg width=\"87.5%\" x=\"12.5%\" y=\"3em\"><defs /><svg width=\"100%\" x=\"0\" y=\"0em\"><defs /><text text-anchor=\"middle\" x=\"50%\" y=\"1em\">TP</text></svg><svg width=\"46.4286%\" x=\"0%\" y=\"3em\"><defs /><svg width=\"100%\" x=\"0\" y=\"0em\"><defs /><text text-anchor=\"middle\" x=\"50%\" y=\"1em\">NP</text></svg><svg width=\"53.8462%\" x=\"0%\" y=\"3em\"><defs /><svg width=\"100%\" x=\"0\" y=\"0em\"><defs /><text text-anchor=\"middle\" x=\"50%\" y=\"1em\">Det</text></svg><svg width=\"100%\" x=\"0%\" y=\"3em\"><defs /><svg width=\"100%\" x=\"0\" y=\"0em\"><defs /><text text-anchor=\"middle\" x=\"50%\" y=\"1em\">those</text></svg></svg><line stroke=\"black\" x1=\"50%\" x2=\"50%\" y1=\"1.2em\" y2=\"3em\" /></svg><line stroke=\"black\" x1=\"50%\" x2=\"26.9231%\" y1=\"1.2em\" y2=\"3em\" /><svg width=\"46.1538%\" x=\"53.8462%\" y=\"3em\"><defs /><svg width=\"100%\" x=\"0\" y=\"0em\"><defs /><text text-anchor=\"middle\" x=\"50%\" y=\"1em\">N</text></svg><svg width=\"100%\" x=\"0%\" y=\"3em\"><defs /><svg width=\"100%\" x=\"0\" y=\"0em\"><defs /><text text-anchor=\"middle\" x=\"50%\" y=\"1em\">guys</text></svg></svg><line stroke=\"black\" x1=\"50%\" x2=\"50%\" y1=\"1.2em\" y2=\"3em\" /></svg><line stroke=\"black\" x1=\"50%\" x2=\"76.9231%\" y1=\"1.2em\" y2=\"3em\" /></svg><line stroke=\"black\" x1=\"50%\" x2=\"23.2143%\" y1=\"1.2em\" y2=\"3em\" /><svg width=\"53.5714%\" x=\"46.4286%\" y=\"3em\"><defs /><svg width=\"100%\" x=\"0\" y=\"0em\"><defs /><text text-anchor=\"middle\" x=\"50%\" y=\"1em\">T'</text></svg><svg width=\"53.3333%\" x=\"0%\" y=\"3em\"><defs /><svg width=\"100%\" x=\"0\" y=\"0em\"><defs /><text text-anchor=\"middle\" x=\"50%\" y=\"1em\">T</text></svg><svg width=\"100%\" x=\"0%\" y=\"3em\"><defs /><svg width=\"100%\" x=\"0\" y=\"0em\"><defs /><text text-anchor=\"middle\" x=\"50%\" y=\"1em\">should</text></svg></svg><line stroke=\"black\" x1=\"50%\" x2=\"50%\" y1=\"1.2em\" y2=\"3em\" /></svg><line stroke=\"black\" x1=\"50%\" x2=\"26.6667%\" y1=\"1.2em\" y2=\"3em\" /><svg width=\"46.6667%\" x=\"53.3333%\" y=\"3em\"><defs /><svg width=\"100%\" x=\"0\" y=\"0em\"><defs /><text text-anchor=\"middle\" x=\"50%\" y=\"1em\">VP</text></svg><svg width=\"100%\" x=\"0%\" y=\"3em\"><defs /><svg width=\"100%\" x=\"0\" y=\"0em\"><defs /><text text-anchor=\"middle\" x=\"50%\" y=\"1em\">V</text></svg><svg width=\"100%\" x=\"0%\" y=\"3em\"><defs /><svg width=\"100%\" x=\"0\" y=\"0em\"><defs /><text text-anchor=\"middle\" x=\"50%\" y=\"1em\">leave</text></svg></svg><line stroke=\"black\" x1=\"50%\" x2=\"50%\" y1=\"1.2em\" y2=\"3em\" /></svg><line stroke=\"black\" x1=\"50%\" x2=\"50%\" y1=\"1.2em\" y2=\"3em\" /></svg><line stroke=\"black\" x1=\"50%\" x2=\"76.6667%\" y1=\"1.2em\" y2=\"3em\" /></svg><line stroke=\"black\" x1=\"50%\" x2=\"73.2143%\" y1=\"1.2em\" y2=\"3em\" /></svg><line stroke=\"black\" x1=\"50%\" x2=\"56.25%\" y1=\"1.2em\" y2=\"3em\" /></svg></svg><svg height=\"100%\" width=\"100%\" x=\"0\" y=\"270.5\"><defs /><text style=\"font-family: times, serif; font-weight:normal; font-style: italic; font-size: 13px;\" text-anchor=\"middle\" x=\"50%\" y=\"1em\">A TP inside a CP shell, with the C carrying the +Q feature.</text></svg></svg>"
          },
          "metadata": {},
          "execution_count": 94
        }
      ]
    },
    {
      "cell_type": "markdown",
      "source": [
        "# [2] Statement to Yes-no question with some restrictions \n",
        "\n",
        "1. The statement you're entering must contain a be-verb.\n",
        "2. If you use a proper noun as a subject, restrict it to one of the followings: \n",
        "\n",
        "> **Male: Tom, Thomas, Bill**\n",
        "\n",
        "> **Female: Mary, Jane, Jessica**\n",
        "\n",
        "2. Must contain a punctuation(.)"
      ],
      "metadata": {
        "id": "5XYJaX2IDrOu"
      }
    },
    {
      "cell_type": "code",
      "source": [
        "#@markdown Install and import libraries\n",
        "%%capture\n",
        "!pip install gtts\n",
        "!pip install IPython\n",
        "from gtts import gTTS\n",
        "from IPython.display import Audio, display\n",
        "\n",
        "#@markdown Define etts(), ktts(): E-audio.mp3, K-audio.mp3\n",
        "def etts(text):\n",
        "  text_to_say = text\n",
        "\n",
        "  gtts_object = gTTS(text = text_to_say,\n",
        "                     lang = \"en\",\n",
        "                    slow = False)\n",
        "  \n",
        "  gtts_object.save(\"E-audio.mp3\")\n",
        "  return Audio(\"E-audio.mp3\")\n",
        "\n",
        "def ktts(text):\n",
        "  text_to_say = text\n",
        "\n",
        "  gtts_object = gTTS(text = text_to_say,\n",
        "                     lang = \"ko\",\n",
        "                    slow = False)\n",
        "  \n",
        "  gtts_object.save(\"K-audio.mp3\")\n",
        "  return Audio(\"K-audio.mp3\")"
      ],
      "metadata": {
        "cellView": "form",
        "id": "TajMEehr8_7D"
      },
      "execution_count": 27,
      "outputs": []
    },
    {
      "cell_type": "code",
      "source": [
        "#@markdown Statment to a Yes-No question (Audio autoplay)\n",
        "sentence = input(\"Type a sentence containing a be verb: e.g., I am a students.\")\n",
        "beverbs = [\"is\", \"was\", \"are\", \"were\"]\n",
        "pronouns = [\"I\",\"You\",\"He\",\"She\",\"They\",\"It\"]\n",
        "names = [\"Mary\", \"Jane\", \"Tom\",\"Thomas\",\"Jessica\", \"Bill\"]\n",
        "\n",
        "def check_word(list_A, list_B):\n",
        "    for a in list_A:\n",
        "        for b in list_B:\n",
        "            if b in a:\n",
        "                mword = a\n",
        "                return True, mword\n",
        "    return False, None\n",
        "\n",
        "\n",
        "cat1 = sentence.split()\n",
        "\n",
        "result = check_word(cat1,beverbs)\n",
        "\n",
        "if result[0] == True:\n",
        "  if cat1[0] in pronouns:\n",
        "      b = result[1]\n",
        "      be = \" \"+b+\" \"\n",
        "      ss = sentence.split(be)\n",
        "      subj = ss[0]\n",
        "      nsubj = subj[0].lower()+subj[1:]\n",
        "      pred = ss[1]\n",
        "      w1 = b[0].upper() + b[1:] # Capitalized be verb\n",
        "      newsent = w1 + \" \" + nsubj + \" \" + pred[:-1] + \"?\"\n",
        "      mytext = \"I'll make it to a yes-no question: \" + newsent\n",
        "      print(newsent)\n",
        "  elif cat1[0] not in pronouns and cat1[0] in names:\n",
        "        b = result[1]\n",
        "        be = \" \"+b+\" \"\n",
        "        ss = sentence.split(be)\n",
        "        subj = ss[0]\n",
        "        pred = ss[1]\n",
        "        w1 = b[0].upper() + b[1:] # Capitalized be verb\n",
        "        newsent = w1 + \" \" + subj + \" \" + pred[:-1] + \"?\"\n",
        "        mytext = \"I'll make it to a yes-no question: \" + newsent\n",
        "        print(newsent)\n",
        "  elif cat1[0] not in pronouns and cat1[0] not in names:\n",
        "        b = result[1]\n",
        "        be = \" \"+b+\" \"\n",
        "        ss = sentence.split(be)\n",
        "        subj = ss[0]\n",
        "        nsubj = subj[0].lower()+subj[1:]\n",
        "        pred = ss[1]\n",
        "        w1 = b[0].upper() + b[1:] # Capitalized be verb\n",
        "        newsent = w1 + \" \" + nsubj + \" \" + pred[:-1] + \"?\"\n",
        "        mytext = \"I'll make it to a yes-no question: \" + newsent\n",
        "        print(newsent)\n",
        "\n",
        "else:\n",
        "    mytext = \"The sentence you\\' provided does not contain a 'Be' verb. Try again.\"\n",
        "    print(\"Type a sentence that contains a be verb.\")\n",
        "\n",
        "etts(mytext)\n",
        "Audio(\"E-audio.mp3\",autoplay=True)"
      ],
      "metadata": {
        "colab": {
          "base_uri": "https://localhost:8080/",
          "height": 111
        },
        "cellView": "form",
        "id": "ZjPSWFub-55P",
        "outputId": "80c1dd88-3bef-4bd3-bf73-bf0b9762418d"
      },
      "execution_count": 57,
      "outputs": [
        {
          "output_type": "stream",
          "name": "stdout",
          "text": [
            "Type a sentence containing a be verb: e.g., I am a students.You were tired yesterday.\n",
            "Were you tired yesterday?\n"
          ]
        },
        {
          "output_type": "execute_result",
          "data": {
            "text/plain": [
              "<IPython.lib.display.Audio object>"
            ],
            "text/html": [
              "\n",
              "                <audio  controls=\"controls\" autoplay=\"autoplay\">\n",
              "                    <source src=\"data:audio/mpeg;base64,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\" type=\"audio/mpeg\" />\n",
              "                    Your browser does not support the audio element.\n",
              "                </audio>\n",
              "              "
            ]
          },
          "metadata": {},
          "execution_count": 57
        }
      ]
    }
  ]
}