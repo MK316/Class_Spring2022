{
  "nbformat": 4,
  "nbformat_minor": 0,
  "metadata": {
    "colab": {
      "name": "FrequencyTableChart.ipynb",
      "provenance": [],
      "collapsed_sections": [
        "IM-Ujc0KrHE6"
      ],
      "authorship_tag": "ABX9TyMWV+7mVm9CvI72AibetKG0",
      "include_colab_link": true
    },
    "kernelspec": {
      "name": "python3",
      "display_name": "Python 3"
    },
    "language_info": {
      "name": "python"
    }
  },
  "cells": [
    {
      "cell_type": "markdown",
      "metadata": {
        "id": "view-in-github",
        "colab_type": "text"
      },
      "source": [
        "<a href=\"https://colab.research.google.com/github/MK316/Class_Spring2022/blob/main/FrequencyTableChart.ipynb\" target=\"_parent\"><img src=\"https://colab.research.google.com/assets/colab-badge.svg\" alt=\"Open In Colab\"/></a>"
      ]
    },
    {
      "cell_type": "markdown",
      "source": [
        "# Frequency table and chart"
      ],
      "metadata": {
        "id": "5EGH7NLJY3ID"
      }
    },
    {
      "cell_type": "code",
      "source": [
        "import pandas as pd"
      ],
      "metadata": {
        "id": "9qgAvT0RZPdT"
      },
      "execution_count": 1,
      "outputs": []
    },
    {
      "cell_type": "code",
      "source": [
        "# Data\n",
        "url = 'https://raw.githubusercontent.com/MK316/Class_Spring2022/main/MA22_roll_whead.csv'\n",
        "df1 = pd.read_csv(url)\n",
        "# Dataset is now stored in a Pandas Dataframe"
      ],
      "metadata": {
        "id": "d7XBylNXZXTp"
      },
      "execution_count": 12,
      "outputs": []
    },
    {
      "cell_type": "code",
      "execution_count": 2,
      "metadata": {
        "id": "o5FgzVIaY1XP"
      },
      "outputs": [],
      "source": [
        "# file = open(\"crime_punishment.txt\")\n",
        "# text = file.read().replace(\"\\n\", \" \")\n",
        "# file.close()"
      ]
    },
    {
      "cell_type": "code",
      "source": [
        "print(df1.head())"
      ],
      "metadata": {
        "colab": {
          "base_uri": "https://localhost:8080/"
        },
        "id": "eH90ViiHoXBK",
        "outputId": "f046b635-a0ab-471d-86fd-a0c10bdccb15"
      },
      "execution_count": 26,
      "outputs": [
        {
          "output_type": "stream",
          "name": "stdout",
          "text": [
            "     Major         Area   ID\n",
            "0      전자과      Science  KMJ\n",
            "1     분석화학      Science  KSK\n",
            "2   한국민속무용         Arts  KSI\n",
            "3   응용생명과학      Science  KMJ\n",
            "4  건설시스템공학  Engeneering  KTY\n"
          ]
        }
      ]
    },
    {
      "cell_type": "code",
      "source": [
        "# major = list(df1.Major)\n",
        "# dfid = list(df1.ID)\n",
        "# print(major[:5]); print(dfid[:5])\n",
        "\n",
        "# Column access: df.loc[row,\"column\"]\n",
        "df1.loc[:2,\"Major\"]"
      ],
      "metadata": {
        "id": "Qtk0F_GZkjFY"
      },
      "execution_count": 5,
      "outputs": []
    },
    {
      "cell_type": "code",
      "source": [
        "# Visualization with matplotlib\n",
        "import matplotlib.pyplot as plt\n",
        "import numpy as np"
      ],
      "metadata": {
        "id": "Y1iLpGRJk9Lo"
      },
      "execution_count": 14,
      "outputs": []
    },
    {
      "cell_type": "code",
      "source": [
        "df1.count()"
      ],
      "metadata": {
        "colab": {
          "base_uri": "https://localhost:8080/"
        },
        "id": "fa97EdcTkEfz",
        "outputId": "22622b92-a201-4389-bcc7-c51f1945f740"
      },
      "execution_count": 16,
      "outputs": [
        {
          "output_type": "execute_result",
          "data": {
            "text/plain": [
              "Major    42\n",
              "Area     42\n",
              "ID       42\n",
              "dtype: int64"
            ]
          },
          "metadata": {},
          "execution_count": 16
        }
      ]
    },
    {
      "cell_type": "code",
      "source": [
        "df1.Area.value_counts()\n",
        "# df1['Area'].value_counts() => Same result"
      ],
      "metadata": {
        "colab": {
          "base_uri": "https://localhost:8080/"
        },
        "id": "1YCFW57Ek8xa",
        "outputId": "20c79afc-06cb-4394-ab83-4346664d7423"
      },
      "execution_count": 27,
      "outputs": [
        {
          "output_type": "execute_result",
          "data": {
            "text/plain": [
              "Engeneering       16\n",
              "Science           14\n",
              "Business           5\n",
              "Social studies     4\n",
              "Arts               3\n",
              "Name: Area, dtype: int64"
            ]
          },
          "metadata": {},
          "execution_count": 27
        }
      ]
    },
    {
      "cell_type": "code",
      "source": [
        "my_tab = pd.crosstab(index=df1[\"Area\"], columns=\"count\") \n",
        "my_tab\n"
      ],
      "metadata": {
        "colab": {
          "base_uri": "https://localhost:8080/"
        },
        "id": "xt1SHWWamxhM",
        "outputId": "6e02d06b-ed98-4965-db62-031ed9a4441e"
      },
      "execution_count": 40,
      "outputs": [
        {
          "output_type": "execute_result",
          "data": {
            "text/plain": [
              "pandas.core.frame.DataFrame"
            ]
          },
          "metadata": {},
          "execution_count": 40
        }
      ]
    },
    {
      "cell_type": "markdown",
      "source": [
        "# Bar Pie chart\n",
        "1. Module import"
      ],
      "metadata": {
        "id": "UWcXEWxypJby"
      }
    },
    {
      "cell_type": "code",
      "source": [
        "import matplotlib.pyplot as plt\n",
        "from matplotlib.patches import ConnectionPatch\n",
        "import numpy as np"
      ],
      "metadata": {
        "id": "TJ8Sz9r8rFew"
      },
      "execution_count": null,
      "outputs": []
    },
    {
      "cell_type": "markdown",
      "source": [
        "# 2. Bar pie example"
      ],
      "metadata": {
        "id": "IM-Ujc0KrHE6"
      }
    },
    {
      "cell_type": "code",
      "source": [
        "\n",
        "# make figure and assign axis objects\n",
        "fig, (ax1, ax2) = plt.subplots(1, 2, figsize=(9, 5))\n",
        "fig.subplots_adjust(wspace=0)\n",
        "\n",
        "# pie chart parameters\n",
        "overall_ratios = [.27, .56, .17]\n",
        "labels = ['Approve', 'Disapprove', 'Undecided']\n",
        "explode = [0.1, 0, 0]\n",
        "# rotate so that first wedge is split by the x-axis\n",
        "angle = -180 * overall_ratios[0]\n",
        "wedges, *_ = ax1.pie(overall_ratios, autopct='%1.1f%%', startangle=angle,\n",
        "                     labels=labels, explode=explode)\n",
        "\n",
        "# bar chart parameters\n",
        "age_ratios = [.33, .54, .07, .06]\n",
        "age_labels = ['Under 35', '35-49', '50-65', 'Over 65']\n",
        "bottom = 1\n",
        "width = .2\n",
        "\n",
        "# Adding from the top matches the legend.\n",
        "for j, (height, label) in enumerate(reversed([*zip(age_ratios, age_labels)])):\n",
        "    bottom -= height\n",
        "    bc = ax2.bar(0, height, width, bottom=bottom, color='C0', label=label,\n",
        "                 alpha=0.1 + 0.25 * j)\n",
        "    #ax2.bar_label(bc, labels=[f\"{height:.0%}\"], label_type='center')\n",
        "    ax2.set_prop_cycle(color=['red', 'green', 'blue'])\n",
        "\n",
        "ax2.set_title('Age of approvers')\n",
        "ax2.legend()\n",
        "ax2.axis('off')\n",
        "ax2.set_xlim(- 2.5 * width, 2.5 * width)\n",
        "\n",
        "# use ConnectionPatch to draw lines between the two plots\n",
        "theta1, theta2 = wedges[0].theta1, wedges[0].theta2\n",
        "center, r = wedges[0].center, wedges[0].r\n",
        "bar_height = sum(age_ratios)\n",
        "\n",
        "# draw top connecting line\n",
        "x = r * np.cos(np.pi / 180 * theta2) + center[0]\n",
        "y = r * np.sin(np.pi / 180 * theta2) + center[1]\n",
        "con = ConnectionPatch(xyA=(-width / 2, bar_height), coordsA=ax2.transData,\n",
        "                      xyB=(x, y), coordsB=ax1.transData)\n",
        "con.set_color([0, 0, 0])\n",
        "con.set_linewidth(4)\n",
        "ax2.add_artist(con)\n",
        "\n",
        "# draw bottom connecting line\n",
        "x = r * np.cos(np.pi / 180 * theta1) + center[0]\n",
        "y = r * np.sin(np.pi / 180 * theta1) + center[1]\n",
        "con = ConnectionPatch(xyA=(-width / 2, 0), coordsA=ax2.transData,\n",
        "                      xyB=(x, y), coordsB=ax1.transData)\n",
        "con.set_color([0, 0, 0])\n",
        "ax2.add_artist(con)\n",
        "con.set_linewidth(4)\n",
        "\n",
        "plt.show()"
      ],
      "metadata": {
        "colab": {
          "base_uri": "https://localhost:8080/",
          "height": 319
        },
        "id": "YMk2vkuXnzeJ",
        "outputId": "472b4e97-ac4f-4311-a92b-370f09b4facb"
      },
      "execution_count": 33,
      "outputs": [
        {
          "output_type": "display_data",
          "data": {
            "text/plain": [
              "<Figure size 648x360 with 2 Axes>"
            ],
            "image/png": "[encoded data removed]"
          },
          "metadata": {
            "needs_background": "light"
          }
        }
      ]
    },
    {
      "cell_type": "code",
      "source": [
        ""
      ],
      "metadata": {
        "id": "Rq7ppFTWnho4"
      },
      "execution_count": null,
      "outputs": []
    },
    {
      "cell_type": "code",
      "source": [
        "Major = df1.loc[:,\"Major\"]\n",
        "#Major.hist()\n"
      ],
      "metadata": {
        "id": "17SiTR-yshA3"
      },
      "execution_count": null,
      "outputs": []
    },
    {
      "cell_type": "code",
      "source": [
        "Major.hist()"
      ],
      "metadata": {
        "id": "eVmGLm1ZtHUG"
      },
      "execution_count": null,
      "outputs": []
    },
    {
      "cell_type": "code",
      "source": [
        "## df1.groupby(['Major']).sum().plot(kind='pie', y='votes_of_each_class')"
      ],
      "metadata": {
        "id": "XUzdfj8WsE-R"
      },
      "execution_count": 37,
      "outputs": []
    },
    {
      "cell_type": "markdown",
      "source": [
        "# Pie chart"
      ],
      "metadata": {
        "id": "oUhFKNWQq_UC"
      }
    },
    {
      "cell_type": "code",
      "source": [
        "df1['Area'].value_counts().plot(kind='pie')"
      ],
      "metadata": {
        "colab": {
          "base_uri": "https://localhost:8080/",
          "height": 265
        },
        "id": "k1umkFhlq7h5",
        "outputId": "c0ced710-ed62-4c4d-e263-69fc2487ff16"
      },
      "execution_count": 73,
      "outputs": [
        {
          "output_type": "execute_result",
          "data": {
            "text/plain": [
              "<matplotlib.axes._subplots.AxesSubplot at 0x7fb3a7b5ad10>"
            ]
          },
          "metadata": {},
          "execution_count": 73
        },
        {
          "output_type": "display_data",
          "data": {
            "text/plain": [
              "<Figure size 432x288 with 1 Axes>"
            ],
            "image/png": "[encoded data removed]"
          },
          "metadata": {}
        }
      ]
    },
    {
      "cell_type": "code",
      "source": [
        "df1['Area'].value_counts().plot(kind='pie',autopct='%1.0f%%')"
      ],
      "metadata": {
        "colab": {
          "base_uri": "https://localhost:8080/",
          "height": 265
        },
        "id": "lnmVovfNyRcr",
        "outputId": "fffbb3cf-df30-4e9f-db03-52b28ce571f2"
      },
      "execution_count": 74,
      "outputs": [
        {
          "output_type": "execute_result",
          "data": {
            "text/plain": [
              "<matplotlib.axes._subplots.AxesSubplot at 0x7fb3a7d05ed0>"
            ]
          },
          "metadata": {},
          "execution_count": 74
        },
        {
          "output_type": "display_data",
          "data": {
            "text/plain": [
              "<Figure size 432x288 with 1 Axes>"
            ],
            "image/png": "[encoded data removed]"
          },
          "metadata": {}
        }
      ]
    },
    {
      "cell_type": "code",
      "source": [
        "df = pd.DataFrame({'Study areas':['Engeneering','Science','Social studies','Business','Arts', ], 'Count':[16,14,5,4,3]})\n",
        ">>> ax = df.plot.bar(x='Study areas', y='Count', rot=0)"
      ],
      "metadata": {
        "colab": {
          "base_uri": "https://localhost:8080/",
          "height": 279
        },
        "id": "hgaEsgy_tz9p",
        "outputId": "e47d6d12-4877-420d-eafb-1e93b8d384cf"
      },
      "execution_count": 49,
      "outputs": [
        {
          "output_type": "display_data",
          "data": {
            "text/plain": [
              "<Figure size 432x288 with 1 Axes>"
            ],
            "image/png": "[encoded data removed]"
          },
          "metadata": {
            "needs_background": "light"
          }
        }
      ]
    },
    {
      "cell_type": "markdown",
      "source": [
        "# Counter ()"
      ],
      "metadata": {
        "id": "bGTcm9MXu9Vp"
      }
    },
    {
      "cell_type": "code",
      "source": [
        "from collections import Counter\n",
        "print(Counter(df1['Area']))"
      ],
      "metadata": {
        "colab": {
          "base_uri": "https://localhost:8080/"
        },
        "id": "hBfAvHhSvnCV",
        "outputId": "1015304f-d230-491e-801d-5f61fb04f2b4"
      },
      "execution_count": 72,
      "outputs": [
        {
          "output_type": "stream",
          "name": "stdout",
          "text": [
            "Counter({'Engeneering': 16, 'Science': 14, 'Business': 5, 'Social studies': 4, 'Arts': 3})\n"
          ]
        }
      ]
    },
    {
      "cell_type": "code",
      "source": [
        "print(Counter(df1['Major']))"
      ],
      "metadata": {
        "colab": {
          "base_uri": "https://localhost:8080/"
        },
        "id": "W2GQfWw0vu6h",
        "outputId": "7e0edb9e-d9d4-4675-860f-11ab687979ba"
      },
      "execution_count": 59,
      "outputs": [
        {
          "output_type": "stream",
          "name": "stdout",
          "text": [
            "Counter({'응용생명과학': 6, '해양식품공학': 5, '해양생명과학': 4, '한국민속무용': 3, '수의생명공학': 3, '분석화학': 2, '상담심리학': 2, '지식재산학': 2, '환경공학': 2, '기술경영학': 2, '전자과': 1, '건설시스템공학': 1, '구조미초질공학': 1, '아동가족학': 1, '문화콘텐츠': 1, '나노신소재융합공학': 1, '항공우주시스템공학': 1, '자동차공학': 1, '회계학': 1, '동역학및제어공학': 1, '빅데이터': 1})\n"
          ]
        }
      ]
    },
    {
      "cell_type": "markdown",
      "source": [
        ""
      ],
      "metadata": {
        "id": "2IbmnBYsq-Dj"
      }
    }
  ]
}