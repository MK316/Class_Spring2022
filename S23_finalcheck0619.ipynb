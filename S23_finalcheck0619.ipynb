{
  "nbformat": 4,
  "nbformat_minor": 0,
  "metadata": {
    "colab": {
      "private_outputs": true,
      "provenance": [],
      "authorship_tag": "ABX9TyMVad7fpMQoOdp/ypVyIsnN",
      "include_colab_link": true
    },
    "kernelspec": {
      "name": "python3",
      "display_name": "Python 3"
    },
    "language_info": {
      "name": "python"
    }
  },
  "cells": [
    {
      "cell_type": "markdown",
      "metadata": {
        "id": "view-in-github",
        "colab_type": "text"
      },
      "source": [
        "<a href=\"https://colab.research.google.com/github/MK316/Class_Spring2022/blob/main/S23_finalcheck0619.ipynb\" target=\"_parent\"><img src=\"https://colab.research.google.com/assets/colab-badge.svg\" alt=\"Open In Colab\"/></a>"
      ]
    },
    {
      "cell_type": "code",
      "source": [
        "!pip install gradio"
      ],
      "metadata": {
        "id": "xH_n3QF3Z6IG"
      },
      "execution_count": null,
      "outputs": []
    },
    {
      "cell_type": "code",
      "execution_count": null,
      "metadata": {
        "id": "ql9mgyKfW0Fp"
      },
      "outputs": [],
      "source": [
        "from google.colab import drive\n",
        "drive.mount('/content/drive')"
      ]
    },
    {
      "cell_type": "code",
      "source": [
        "import pandas as pd\n",
        "\n",
        "# make sure the path is correct, the path starts with '/content/drive/My Drive/'\n",
        "df = pd.read_csv('/content/drive/My Drive/S23_englingcheck.csv')\n",
        "# df1 = pd.read_csv('/content/drive/My Drive/S23_dlcheck.csv')\n",
        "# df2 = pd.read_csv('/content/drive/My Drive/S23_engprocheck.csv')\n",
        "print(df.head())\n"
      ],
      "metadata": {
        "id": "WIcuU_8MZUcZ"
      },
      "execution_count": null,
      "outputs": []
    },
    {
      "cell_type": "code",
      "source": [
        "drive.flush_and_unmount()"
      ],
      "metadata": {
        "id": "TVs4QRcdb4Sm"
      },
      "execution_count": null,
      "outputs": []
    },
    {
      "cell_type": "markdown",
      "source": [
        "Gradio"
      ],
      "metadata": {
        "id": "NTFgyJ2dZ1lq"
      }
    },
    {
      "cell_type": "markdown",
      "source": [
        "# English Linguistics"
      ],
      "metadata": {
        "id": "JbBerzNn-mP0"
      }
    },
    {
      "cell_type": "code",
      "source": [
        "import gradio as gr\n",
        "\n",
        "def search(code):\n",
        "    result = df[df['Code']==code]\n",
        "    if not result.empty:\n",
        "        return result.values[0].tolist()[:] # excluding the 'Code' field\n",
        "    else:\n",
        "        return [\"Code not found.\"] * 11\n",
        "\n",
        "iface = gr.Interface(fn=search,\n",
        "                     inputs=\"text\",\n",
        "                     outputs=[\n",
        "                         gr.outputs.Textbox(label=\"Group\"),\n",
        "                         gr.outputs.Textbox(label=\"Name\"),\n",
        "                         gr.outputs.Textbox(label=\"LastName\"),\n",
        "                         gr.outputs.Textbox(label=\"GroupActivities\"),\n",
        "                         gr.outputs.Textbox(label=\"Mid_100\"),\n",
        "                         gr.outputs.Textbox(label=\"Mid_30\"),\n",
        "                         gr.outputs.Textbox(label=\"Final_100\"),\n",
        "                         gr.outputs.Textbox(label=\"Final_30\"),\n",
        "                         gr.outputs.Textbox(label=\"Att_10\"),\n",
        "                         gr.outputs.Textbox(label=\"Total_100\"),\n",
        "                         gr.outputs.Textbox(label=\"Rank\"),\n",
        "                         gr.outputs.Textbox(label=\"Code\"),\n",
        "                     ],\n",
        "                     interpretation=\"default\")\n",
        "iface.launch(share=True)\n"
      ],
      "metadata": {
        "id": "jVGJT6p9aclz"
      },
      "execution_count": null,
      "outputs": []
    },
    {
      "cell_type": "markdown",
      "source": [
        "Descriptive statistics"
      ],
      "metadata": {
        "id": "WHi9SSyDdp-1"
      }
    },
    {
      "cell_type": "code",
      "source": [
        "df.describe()"
      ],
      "metadata": {
        "id": "3mxY4_k_dwW3"
      },
      "execution_count": null,
      "outputs": []
    },
    {
      "cell_type": "markdown",
      "source": [
        "# Digital Literacy"
      ],
      "metadata": {
        "id": "Pfk-WxPP-qC-"
      }
    },
    {
      "cell_type": "code",
      "source": [
        "import gradio as gr\n",
        "\n",
        "def search(code):\n",
        "    result = df1[df1['Code']==code]\n",
        "    if not result.empty:\n",
        "        return result.values[0].tolist()[:] # excluding the 'Code' field\n",
        "    else:\n",
        "        return [\"Code not found.\"] * 11\n",
        "\n",
        "iface = gr.Interface(fn=search,\n",
        "                     inputs=\"text\",\n",
        "                     outputs=[\n",
        "                         gr.outputs.Textbox(label=\"Group\"),\n",
        "                         gr.outputs.Textbox(label=\"Name\"),\n",
        "                         gr.outputs.Textbox(label=\"LastName\"),\n",
        "                         gr.outputs.Textbox(label=\"GroupActivities\"),\n",
        "                         gr.outputs.Textbox(label=\"Mid_100\"),\n",
        "                         gr.outputs.Textbox(label=\"Mid_30\"),\n",
        "                         gr.outputs.Textbox(label=\"Final_100\"),\n",
        "                         gr.outputs.Textbox(label=\"Final_30\"),\n",
        "                         gr.outputs.Textbox(label=\"Att_10\"),\n",
        "                         gr.outputs.Textbox(label=\"Total_100\"),\n",
        "                         gr.outputs.Textbox(label=\"Rank\"),\n",
        "                         gr.outputs.Textbox(label=\"Code\"),\n",
        "                     ],\n",
        "                     interpretation=\"default\")\n",
        "iface.launch(share=True)"
      ],
      "metadata": {
        "id": "NrBlUR-N-wg8"
      },
      "execution_count": null,
      "outputs": []
    },
    {
      "cell_type": "markdown",
      "source": [
        "# English Pronunciation Practice"
      ],
      "metadata": {
        "id": "QdiELiEH-r-K"
      }
    },
    {
      "cell_type": "code",
      "source": [
        "import gradio as gr\n",
        "\n",
        "def search(code):\n",
        "    result = df2[df2['Code']==code]\n",
        "    if not result.empty:\n",
        "        return result.values[0].tolist()[:] # excluding the 'Code' field\n",
        "    else:\n",
        "        return [\"Code not found.\"] * 11\n",
        "\n",
        "iface = gr.Interface(fn=search,\n",
        "                     inputs=\"text\",\n",
        "                     outputs=[\n",
        "                         gr.outputs.Textbox(label=\"Group\"),\n",
        "                         gr.outputs.Textbox(label=\"Name\"),\n",
        "                         gr.outputs.Textbox(label=\"LastName\"),\n",
        "                         gr.outputs.Textbox(label=\"GroupActivities\"),\n",
        "                         gr.outputs.Textbox(label=\"Mid_100\"),\n",
        "                         gr.outputs.Textbox(label=\"Mid_30\"),\n",
        "                         gr.outputs.Textbox(label=\"Final_100\"),\n",
        "                         gr.outputs.Textbox(label=\"Final_30\"),\n",
        "                         gr.outputs.Textbox(label=\"Att_10\"),\n",
        "                         gr.outputs.Textbox(label=\"Total_100\"),\n",
        "                         gr.outputs.Textbox(label=\"Rank\"),\n",
        "                         gr.outputs.Textbox(label=\"Code\"),\n",
        "                     ],\n",
        "                     interpretation=\"default\")\n",
        "iface.launch(share=True)"
      ],
      "metadata": {
        "id": "3GsguQpC_AHC"
      },
      "execution_count": null,
      "outputs": []
    }
  ]
}